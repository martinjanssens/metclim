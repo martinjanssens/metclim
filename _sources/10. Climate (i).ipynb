{
 "cells": [
  {
   "cell_type": "markdown",
   "id": "dbeb0f51-6987-4c1d-b847-32a5a73777d8",
   "metadata": {},
   "source": [
    "# Climate"
   ]
  },
  {
   "cell_type": "markdown",
   "id": "d7d941c0-2b55-4765-afa1-18f0b8fab088",
   "metadata": {},
   "source": [
    "The flow could be:\n",
    "1. Distinguishing climate from weather, through statistics\n",
    "2. Building a simple climate model, to give us a qualitative picture of the basics, and *some* O(0) quantitative estimates. Follow the [lecture notes by Nadir Jeevanjee](https://arxiv.org/abs/1802.02695), and take sidesteps to slides whenever you have to show something you can't express on the board.\n",
    "\n",
    "## Building a climate model\n",
    "Comprehensive climate models: 1 slide. But key takeaway: They are hard to parse.\n",
    "The first objective is to get the globally averaged surface temperature (and I'd like to do precip, but let's see). We can do this using elements from the thermodynamics and radiation modules.\n",
    "1. Do the purely radiative TOA energy balance, it gievs Ts=255K. That's not correct (it's 288K), but it's because the emission is from GHGs in the atmosphere, and Tem=255 K is actually a good model for the atmosphere. So we need to couple the atmosphere to the surface.\n",
    "2. Sketch RCE: **Assumptions: i) Global energy cycle is approximated by that of the tropics, ii) the tropics are covered for 2/3 by ocean**. Consequences: We ignore polar energy transport (and thus the advective part of the energy cycle: net radiative warming of the tropics, export to the extratropics, and cooling at the poles), the fact that the atmosphere and ocean are way less strongly coupled in the arctic (where there is no convection), and the influence of land on the balance.\n",
    "   - Sin warms the surface **(here you have to mention clouds, ice, different surface albedos)**, shortwave effects\n",
    "   - The surface emits LW to the atmosphere, but the atmosphere emits that back, so it cannot cool. So to get rid of heat, it sweats, evaporates (**here you have to mention sensible heat, and it being large over land, but small over ocean**). The evaporated water ends up in the BL, from where it drives convection, forming rain, which falls back to the surface. This is a warming: Heat from evaporation at the surface, goes into condensing water into liquid, which when it falls out leaves the heat behind in the atmosphere. And that heat for evap came from the sun: Nadir says \"every rain droplet is a ray of sunshine\". And there, there are little GHGs left on top of you, and you can emit to space.\n",
    "   - How to relate this to Ts? We can work our way backwards: We know Tem from the atmosphere, and we know that it's convection that couples it to the surface. So if we take the moist adiabatic lapse rate, which tells us the RCE picture: that the atmosphere takes on the character of moist convection, we can relate Tem to Ts linearly, with an *average* moist adiabatic lapse rate $\\overline{\\Gamma_m}$: $T_em = T_s + dT/dz z_em\n",
    "   - Assume $z_em$ is at the average height of the atmosphere, where you have half the air below you and half above you (hyd.stat.)\n",
    "   - Gives Ts = 290 K. It's not bad.\n",
    "\n",
    "## Climate change\n",
    "- GHG imbalance. Requires understanding the cycles of GHGs. Most notably, of carbon. And although CO2 has a really long atmospheric lifetime, it varies on daily, and seasonal timescales, it's sequestered in the ocean and all this is crucial for determining the amount of CO2 in the atmosphere, and thus, our climate. We don't talk about it here. We have an excellent carbon cycle group studying this.\n",
    "- Leads to a heating (we don't here say why, we will in the next lecture). Where does the heat end up? Most of it ends up in the ocean. So a zero-order model of climate change, has to be a zero-order model of how the ocean responds to a forcing in GHGs.\n",
    "- Do the two time scales of Nadir, and use gamma to summarise all our ignorance of ocean heat transport (which you can then illustrate on slides)\n",
    "- We will end with a climate sensitivity proportional to $dOLR/dTs = 4\\sigmaT_s^3$, which is too large. Next lecture, will discuss why.\n",
    "Cryosphere? -> Ignore\n"
   ]
  },
  {
   "cell_type": "markdown",
   "id": "d8935805-27ed-4714-b126-a79f6b3d92f8",
   "metadata": {},
   "source": [
    "Climate (ii)\n",
    "\n",
    "- Feedbacks\n",
    "- "
   ]
  }
 ],
 "metadata": {
  "kernelspec": {
   "display_name": "metclim_env",
   "language": "python",
   "name": "metclim_env"
  },
  "language_info": {
   "codemirror_mode": {
    "name": "ipython",
    "version": 3
   },
   "file_extension": ".py",
   "mimetype": "text/x-python",
   "name": "python",
   "nbconvert_exporter": "python",
   "pygments_lexer": "ipython3",
   "version": "3.12.7"
  }
 },
 "nbformat": 4,
 "nbformat_minor": 5
}
