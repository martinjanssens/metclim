{
 "cells": [
  {
   "cell_type": "markdown",
   "id": "dceec7ec-2355-46a0-9f2a-ad6f033aa1ed",
   "metadata": {},
   "source": [
    "# Welcome to Meteorology & Climate\n",
    "\n",
    "These notes aim to help you through the main theoretical developments in the course. They are primarily a summary of my own derivations, and are hopefully helpful to clarify concepts covered quickly during lectures.\n",
    "\n",
    "```{tableofcontents}\n",
    "```\n"
   ]
  },
  {
   "cell_type": "code",
   "execution_count": null,
   "id": "9619ae09-88a6-4b76-871d-3a3462c91c6b",
   "metadata": {},
   "outputs": [],
   "source": []
  }
 ],
 "metadata": {
  "kernelspec": {
   "display_name": "",
   "name": ""
  },
  "language_info": {
   "name": ""
  }
 },
 "nbformat": 4,
 "nbformat_minor": 5
}
