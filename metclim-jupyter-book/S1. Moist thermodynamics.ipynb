{
 "cells": [
  {
   "cell_type": "markdown",
   "id": "6fe93079-edf4-490e-9943-e63f6dd0eff4",
   "metadata": {},
   "source": [
    "# Truncated fundamentals of water/air systems\n",
    "\n",
    "## A mixture of dry air and water vapour, liquid and solid\n",
    "Such multi-phase cloudy air mixtures are called \"heterogeneous\". This means that we no longer know the full state with only two independent variables: E.g. for dry air (or moist unsaturated air), knowing $p$ and $T$ (or $p$ and $T_v$) determined the mass (through the gas law), as well as the maximum work that could be done -- the [Gibbs energy potential](https://en.wikipedia.org/wiki/Gibbs_free_energy) $G(p,T) = U + pV - TS$. In a heterogneeous system, we now need to know in addition how much there is of each phase ($q_v$, $q_l$, $q_s$), to determine the state. Systems (like the water vapour system), which can lose mass within the control volume to another phase are called \"open\", even if they are \"homogeneous\", in the sense that the water vapour phase consists of a single phase.\n",
    "\n",
    "So, for any \"extensive property\" $Z(p,T,m_d,m_v,m_c) = m_dz_d + m_vz_v + m_cz_c$[^fncond], e.g. $G$, internal energy $U$ or enthalpy $H$, if the heterogeneous system is closed:\n",
    "\n",
    "$$\n",
    " dZ = \\left(\\frac{\\partial Z}{\\partial T}\\right)_{p,m} dT + \\left(\\frac{\\partial Z}{\\partial p}\\right)_{T,m} dp + (z_v - z_c)dm_v\n",
    "$$ (dz-gen)\n",
    "\n",
    "Where we took:\n",
    "\n",
    "$$\n",
    "   \\left(\\frac{\\partial Z}{\\partial T}\\right)_{p,m} dT & = m_d \\left(\\frac{\\partial z_d}{\\partial T}\\right)_{p,m} dT + m_v \\left(\\frac{\\partial z_v}{\\partial T}\\right)_{p,m} dT + m_c \\left(\\frac{\\partial z_c}{\\partial T}\\right)_{p,m} dT \\\\\n",
    "   \\left(\\frac{\\partial Z}{\\partial p}\\right)_{T,m} dp & = m_d \\left(\\frac{\\partial z_d}{\\partial p}\\right)_{T,m} dp + m_v \\left(\\frac{\\partial z_v}{\\partial p}\\right)_{T,m} dp + m_c \\left(\\frac{\\partial z_c}{\\partial p}\\right)_{T,m} dp \\\\\n",
    "   d m_d & = 0 \\\\\n",
    "   d m_v & = - dm_c\n",
    "$$\n",
    "\n",
    "The last two lines just say that we've kept the dry air mass fraction constant, and all increases in water vapour are reductions in condensed-phase water. We could also have expressed the last term with respect to liquid water, i.e. \n",
    "\n",
    "$$\n",
    "  (z_v - z_c)dm_v = -(z_v - z_c)dm_c\n",
    "$$\n",
    "\n",
    "You can generalise these equations to multiple components $c$ and phases $\\phi$, each time adding a term which expresses the difference in property $Z_{c_i,\\phi_j}$ between phases $\\phi_j$ and $\\phi_0$, *at constant temperature and pressure*. And, if you keep the chosen reference component/phase the same, you can express them all with respect to that phase. In the atmosphere, these are often differences in $G$ (or $U$ or $H$) between water vapour and liquid, and liquid and ice, i.e. they  express differences in internal energy/enthalpy/gibbs potential between water in vapour, liquid and solid form. For all these quantities, the difference $Z_{c_i,\\phi_j} - Z{c_0, \\phi_0}$ are the same differences, in *chemical potential* $\\mu$. So, we can think of the energetic differences between vapour/liquid/solid (at constant $p$ and $T$) purely as differences in chemical potential.\n",
    "\n",
    "## Equilibrium\n",
    "If our mixture really holds condensed water, it turns out to be super useful to assume that the phases are *in internal equilibrium*. If the system is closed (and it's all reversible), then $dG=0$. If $p$ and $T$ are also constant, then internal equilibrium between two phases means the first terms in eq. {eq}`dz-gen` vanish. That is, $(\\mu_v - \\mu_c)dm_v=0$, or $\\mu_v = \\mu_c$, i.e. *at equilibrium, the chemical potentials between the phases must be the same*. This doesn't tell us anything yet, because we don't know what these potentials are. In fact, they are functions of $T$ and $p$ too (this is how $G$ is defined, see above!)\n",
    "\n",
    "I think this is all a really long way of saying: If you have a heterogeneous system with two phases, one at $p$ and $T$ with Gibbs potential $G=\\mu(T,p)$, and the other at $p'$ and $T'$ with $G'(T',p')$, then *if they are in equilibrium*, $p=p'$, $T=T'$ and $G(T,p)=G'(T', p')$. So if we know *any one* of $p$, $T$, $p'$ or $T'$, we immediately know all the others too. This is super useful, because it means that if we choose $T$ to be the thing to track, then we can always find a $p$ where there is equilibrium, because of the additional constraint of equal chemical potentials. In terms we're used to: The saturation vapour pressure (equilibrium between phases) is uniquely determined by the moist air temperature $T$[^fntemp].\n",
    "\n",
    "## Triple point\n",
    "Going along the same lines, if all three phases are present at the same time, then if you impose equilibrium, you have six variables ($p$, $p'$, $p''$, $T$, $T'$, $T''$), and six equations ($T=T'$, $T'=T''$, $p=p'$, $p'=p''$, $G=G'$, $G'=G''$), so if you know $T$, you immediately know everything. This point is called the triple point. For water, it occurs at $p_t = 610.7 Pa$, defining $T=273.15 K$, but also the phase densities and chemical potentials (and the latent heats for phase changes which follow).\n",
    "\n",
    "You need to have defined enthalpy to now continue to derive the Clausius Claperyon equation, which also immediately identifies the latent heat of vaporisation. So going back to the lecture, you will need to have gone through all the dry thinking (having identified enthalpy) before it makes sense to introduce CC (which is surprisingly easy to derive).\n",
    "\n",
    "So\n",
    "\n",
    "[^fncond]: $m_c$ is now taken to be any condensate. However, Iribarne and Godson say (p. 49) that we cannot in general write equations when the liquid and solid states are present at the same time, because that system \"is not in equilibrium\". But in practice we will have to.\n",
    "[^fntemp]: Or, less practically, $T'$ or $p'$"
   ]
  },
  {
   "cell_type": "code",
   "execution_count": null,
   "id": "e914fc62-3e35-474d-8574-0041440c027c",
   "metadata": {},
   "outputs": [],
   "source": []
  }
 ],
 "metadata": {
  "kernelspec": {
   "display_name": "metclim_env",
   "language": "python",
   "name": "metclim_env"
  },
  "language_info": {
   "codemirror_mode": {
    "name": "ipython",
    "version": 3
   },
   "file_extension": ".py",
   "mimetype": "text/x-python",
   "name": "python",
   "nbconvert_exporter": "python",
   "pygments_lexer": "ipython3",
   "version": "3.12.7"
  }
 },
 "nbformat": 4,
 "nbformat_minor": 5
}
