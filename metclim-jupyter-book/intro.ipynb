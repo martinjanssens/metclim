{
 "cells": [
  {
   "cell_type": "markdown",
   "id": "dceec7ec-2355-46a0-9f2a-ad6f033aa1ed",
   "metadata": {},
   "source": [
    "# Welcome\n",
    "\n",
    "Welcome to our course on Meteorology & Climate ([MAQ21806](https://studyhandbook.wur.nl/modules/MAQ21806?type=Cursory))!\n",
    "\n",
    "These notes aim to help you through some theoretical developments in the course. They are a work in progress, and for this year, they only cover the lectures on thermodynamics. The notes offer an annotated summary of my own derivations, and are hopefully helpful to clarify concepts covered more rapdily during lectures. Your feedback is welcome :)\n",
    "\n",
    "## Lectures\n",
    "```{tableofcontents}\n",
    "```\n"
   ]
  },
  {
   "cell_type": "code",
   "execution_count": null,
   "id": "9619ae09-88a6-4b76-871d-3a3462c91c6b",
   "metadata": {},
   "outputs": [],
   "source": []
  }
 ],
 "metadata": {
  "kernelspec": {
   "display_name": "metclim_env",
   "language": "python",
   "name": "metclim_env"
  },
  "language_info": {
   "codemirror_mode": {
    "name": "ipython",
    "version": 3
   },
   "file_extension": ".py",
   "mimetype": "text/x-python",
   "name": "python",
   "nbconvert_exporter": "python",
   "pygments_lexer": "ipython3",
   "version": "3.12.7"
  }
 },
 "nbformat": 4,
 "nbformat_minor": 5
}
